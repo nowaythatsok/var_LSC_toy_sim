{
 "cells": [
  {
   "cell_type": "code",
   "execution_count": null,
   "metadata": {},
   "outputs": [],
   "source": [
    "import numpy as np\n",
    "import sys\n",
    "import matplotlib.pyplot as plt"
   ]
  },
  {
   "cell_type": "code",
   "execution_count": null,
   "metadata": {},
   "outputs": [],
   "source": [
    "def avg_outlier(x, n_outliers):\n",
    "\n",
    "    x1  = np.array(x)\n",
    "    for i in range(n_outliers):\n",
    "        avg     = np.mean( x1 )\n",
    "        i_extremum = np.argmax(np.abs(x1-avg))\n",
    "        if np.abs(x1[i_extremum] - avg)<0.001:\n",
    "            break\n",
    "        x1 = x1[ np.arange(len(x1)) != i_extremum ]\n",
    "    avg = np.mean(x1)\n",
    "    std = np.std(x1)\n",
    "    lim = 3*std\n",
    "    x2 = x[ np.abs( x-avg )<=lim ]\n",
    "    avg_step_size = np.mean(x2)\n",
    "\n",
    "    return avg_step_size"
   ]
  },
  {
   "cell_type": "code",
   "execution_count": null,
   "metadata": {},
   "outputs": [],
   "source": [
    "N = 100000\n",
    "M = 10\n",
    "\n",
    "averages={0:[], 1:[], 4:[], 7:[]}\n",
    "for i in range(N):\n",
    "\n",
    "    r = np.random.normal(size=M)\n",
    "\n",
    "    averages[0].append(np.mean(r))\n",
    "    averages[1].append(avg_outlier(r, 1))\n",
    "    averages[4].append(avg_outlier(r, 4))\n",
    "    averages[7].append(avg_outlier(r, 7))\n",
    "    \n"
   ]
  },
  {
   "cell_type": "code",
   "execution_count": null,
   "metadata": {},
   "outputs": [],
   "source": [
    "fig = plt.figure(figsize=(10,10))\n",
    "fig.patch.set_facecolor('white')\n",
    "ax0 = fig.add_subplot(111)\n",
    "ax0.set_xlabel(\"Average of 10 samples from N(0,1)\", fontsize=16)\n",
    "ax0.tick_params(axis='y', which='major', direction=\"in\", labelsize=16, pad = 8)\n",
    "ax0.tick_params(axis='x', which='major', direction=\"in\", labelsize=16, pad = 12)\n",
    "for ik, k in enumerate(sorted(averages.keys())):\n",
    "    ax0.hist(averages[k], bins=np.linspace(-3,3,60), density=False, histtype='step', align='mid', label=str(k))\n",
    "    ax0.text(0.02, 1-0.01, \"N experiments: {}\".format(N),\n",
    "                        horizontalalignment='left',\n",
    "                        verticalalignment='top',\n",
    "                        transform=ax0.transAxes,\n",
    "                        fontname='sans-serif',\n",
    "                        fontweight='bold',\n",
    "                        fontsize=14)\n",
    "    ax0.text(0.02, 1-0.04-ik*0.03, \"n outliers removed: {}, std:{:0.4f}\".format(k, np.std(averages[k])),\n",
    "                        horizontalalignment='left',\n",
    "                        verticalalignment='top',\n",
    "                        transform=ax0.transAxes,\n",
    "                        fontname='sans-serif',\n",
    "                        fontweight='bold',\n",
    "                        fontsize=14)\n",
    "\n",
    "ax0.set_ylim(0, ax0.get_ylim()[1]*1.15)\n",
    "ax0.legend(fontsize=14)"
   ]
  },
  {
   "cell_type": "code",
   "execution_count": null,
   "metadata": {},
   "outputs": [],
   "source": []
  }
 ],
 "metadata": {
  "interpreter": {
   "hash": "e774977668b7c0ae8309835a5187aa7fbf7669e7d0bb59755bc63e573643edcd"
  },
  "kernelspec": {
   "display_name": "Python 3.7.4 64-bit",
   "language": "python",
   "name": "python3"
  },
  "language_info": {
   "codemirror_mode": {
    "name": "ipython",
    "version": 3
   },
   "file_extension": ".py",
   "mimetype": "text/x-python",
   "name": "python",
   "nbconvert_exporter": "python",
   "pygments_lexer": "ipython3",
   "version": "3.7.4"
  },
  "orig_nbformat": 4
 },
 "nbformat": 4,
 "nbformat_minor": 2
}
