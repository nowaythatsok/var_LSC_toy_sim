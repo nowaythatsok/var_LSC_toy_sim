{
 "cells": [
  {
   "cell_type": "code",
   "execution_count": 1,
   "metadata": {},
   "outputs": [
    {
     "name": "stdout",
     "output_type": "stream",
     "text": [
      "iminuit version: 1.5.4\n"
     ]
    }
   ],
   "source": [
    "import numpy as np\n",
    "# from scipy.optimize import curve_fit\n",
    "import sys\n",
    "import matplotlib.pyplot as plt\n",
    "\n",
    "import iminuit\n",
    "print(\"iminuit version:\", iminuit.__version__)\n",
    "from iminuit import Minuit\n",
    "from iminuit.cost import LeastSquares\n",
    "import inspect"
   ]
  },
  {
   "cell_type": "code",
   "execution_count": 2,
   "metadata": {},
   "outputs": [],
   "source": [
    "## PARAMETERS\n",
    "# Computing B1 LS\n",
    "# B1 is stationary\n",
    "# B2 is scanning\n",
    "\n",
    "# definition of LS: BPM_length * LS = true_length\n",
    "\n",
    "params = {\n",
    "    # \"Nominal_LS\":1.05,\n",
    "    \"Nominal_LS_B1\":1.0,\n",
    "    # \"Nominal_LS_B1\":0.995,\n",
    "    # \"Doros_LS_B1\":1.05,\n",
    "    # \"Doros_LS_B1\":1.0,\n",
    "    \"Doros_LS_B1\":0.995,\n",
    "    # \"Arc_LS_B1\":1.05,\n",
    "    \"Arc_LS_B1\":1.0,\n",
    "    # \"Arc_LS_B1\":0.995,\n",
    "    \"Nominal_LS_B2\":1.0,\n",
    "    # \"Nominal_LS_B2\":0.995,\n",
    "    # \"Doros_LS_B2\":1.05,\n",
    "    \"Doros_LS_B2\":0.8,\n",
    "    # \"Doros_LS_B2\":0.995,\n",
    "    # \"Arc_LS_B2\":1.05,\n",
    "    \"Arc_LS_B2\":1.0,\n",
    "    # \"Arc_LS_B2\":0.995,\n",
    "    \"Sigma_B1\":90, #micron\n",
    "    \"Sigma_B2\":90, #micron\n",
    "    \"nominal_step_size_B1\": 130, #micron\n",
    "    \"nominal_step_size_B2\": 130, #micron\n",
    "    \"cumulative_OD\":False,\n",
    "    \"OD_B1\":[\n",
    "        10,0,0,\n",
    "        0,0,0,\n",
    "        0,0,0,\n",
    "        0,0,0,\n",
    "        0,0,0,\n",
    "    ],\n",
    "    \"OD_B2\":[\n",
    "        0,0,0,\n",
    "        0,0,0,\n",
    "        0,0,0,\n",
    "        0,0,0,\n",
    "        0,0,0,\n",
    "    ],\n",
    "    \"Doros_noise_sigma\":0, # micron\n",
    "    \"Arc_noise_sigma\":0, # micron\n",
    "    \"rate_runcertainty_at_head_on\":0.005, \n",
    "    \"beamspot_position_uncertainty\":1, #micron\n",
    "    # \"pos_strategy\":\"doros, middle point\",\n",
    "    \"pos_strategy\":\"doros, avg point\",\n",
    "}"
   ]
  },
  {
   "cell_type": "code",
   "execution_count": 3,
   "metadata": {},
   "outputs": [
    {
     "name": "stdout",
     "output_type": "stream",
     "text": [
      "[0.98 0.03]\n",
      "[[ 0.2 -0.3]\n",
      " [-0.3  0.7]]\n"
     ]
    }
   ],
   "source": [
    "# utility fitting function using minuit for better error propagation\n",
    "def curve_fit(f, x, y, sigma=None, p0=None, p0_lim=None):\n",
    "\n",
    "    if sigma is None:\n",
    "        sigma = np.ones_like(y)\n",
    "\n",
    "    init_params = {}\n",
    "    if not p0 is None:\n",
    "        for i, n in enumerate(inspect.getfullargspec(f)[0][1:]):\n",
    "            init_params[n]=p0[i]\n",
    "    if not p0_lim is None:\n",
    "        for i, n in enumerate(inspect.getfullargspec(f)[0][1:]):\n",
    "            init_params[\"limit_\"+n]=p0_lim[i]\n",
    "\n",
    "    least_squares = LeastSquares(x, y, sigma, f)\n",
    "\n",
    "    m = Minuit(least_squares, **init_params)\n",
    "\n",
    "    m.migrad()    \n",
    "    try:\n",
    "        cov = np.array(m.matrix())\n",
    "    except:\n",
    "        try:\n",
    "            m.hesse()\n",
    "            cov = np.array(m.matrix())\n",
    "        except:\n",
    "            m.hesse()\n",
    "            cov = np.array(m.matrix())\n",
    "        \n",
    "\n",
    "    return m.np_values(), cov\n",
    "\n",
    "\n",
    "\n",
    "# test\n",
    "def lin(x,a,b):\n",
    "        return a*x+b\n",
    "popt_lin, pcov_lin = curve_fit(lin, range(4), [0,1.1,1.9,3], sigma=[1,1,1,1], p0=[1, 0])\n",
    "print(popt_lin)\n",
    "print(pcov_lin)"
   ]
  },
  {
   "cell_type": "code",
   "execution_count": 4,
   "metadata": {},
   "outputs": [
    {
     "data": {
      "text/plain": [
       "Text(0, 0.5, 'Beam position')"
      ]
     },
     "execution_count": 4,
     "metadata": {},
     "output_type": "execute_result"
    },
    {
     "data": {
      "image/png": "[encoded data removed]",
      "text/plain": [
       "<Figure size 432x288 with 1 Axes>"
      ]
     },
     "metadata": {
      "needs_background": "light"
     },
     "output_type": "display_data"
    }
   ],
   "source": [
    "## nominal beampositions\n",
    "\n",
    "nominal_B1_positions = np.repeat((np.arange(5)*params[\"nominal_step_size_B1\"]),3)\n",
    "scan_pattern = np.tile([-params[\"nominal_step_size_B2\"], 0, params[\"nominal_step_size_B2\"]], 5)\n",
    "nominal_B2_positions = nominal_B1_positions + scan_pattern\n",
    "\n",
    "plt.plot(range(15), nominal_B1_positions, \"or\")\n",
    "plt.plot(range(15), nominal_B2_positions, \"xb\")\n",
    "plt.xlabel('Tick')\n",
    "plt.ylabel('Beam position')"
   ]
  },
  {
   "cell_type": "code",
   "execution_count": 5,
   "metadata": {},
   "outputs": [
    {
     "data": {
      "image/png": "[encoded data removed]",
      "text/plain": [
       "<Figure size 432x288 with 1 Axes>"
      ]
     },
     "metadata": {
      "needs_background": "light"
     },
     "output_type": "display_data"
    },
    {
     "data": {
      "image/png": "[encoded data removed]",
      "text/plain": [
       "<Figure size 432x288 with 1 Axes>"
      ]
     },
     "metadata": {
      "needs_background": "light"
     },
     "output_type": "display_data"
    }
   ],
   "source": [
    "## OD and BPM\n",
    "if params[\"cumulative_OD\"]:\n",
    "    true_B1_positions = nominal_B1_positions * params[\"Nominal_LS_B1\"] + np.cumsum(params[\"OD_B1\"])\n",
    "    true_B2_positions = nominal_B2_positions * params[\"Nominal_LS_B2\"] + np.cumsum(params[\"OD_B2\"])\n",
    "else:\n",
    "    true_B1_positions = nominal_B1_positions * params[\"Nominal_LS_B1\"] + params[\"OD_B1\"]\n",
    "    true_B2_positions = nominal_B2_positions * params[\"Nominal_LS_B2\"] + params[\"OD_B2\"]\n",
    "\n",
    "doros_B1_positions = true_B1_positions / params[\"Doros_LS_B1\"] + np.random.normal(size=true_B1_positions.shape) * params[\"Doros_noise_sigma\"] \n",
    "doros_B2_positions = true_B2_positions / params[\"Doros_LS_B2\"] + np.random.normal(size=true_B2_positions.shape) * params[\"Doros_noise_sigma\"]\n",
    "\n",
    "arc_B1_positions = true_B1_positions / params[\"Arc_LS_B1\"] + np.random.normal(size=true_B1_positions.shape) * params[\"Arc_noise_sigma\"]\n",
    "arc_B2_positions = true_B2_positions / params[\"Arc_LS_B2\"] + np.random.normal(size=true_B2_positions.shape) * params[\"Arc_noise_sigma\"]\n",
    "\n",
    "avg_B1_positions = (doros_B1_positions + arc_B1_positions)/2\n",
    "avg_B2_positions = (doros_B2_positions + arc_B2_positions)/2\n",
    "\n",
    "\n",
    "plt.plot(range(15), doros_B1_positions-nominal_B1_positions+1, \"o-r\")\n",
    "plt.plot(range(15), arc_B1_positions-nominal_B1_positions-1, \"o-b\")\n",
    "plt.plot(range(15), avg_B1_positions-nominal_B1_positions, \"o-y\")\n",
    "plt.xlabel('Tick')\n",
    "plt.ylabel('BPM - nominal')\n",
    "plt.show()\n",
    "\n",
    "plt.plot(range(15), doros_B2_positions-nominal_B2_positions+1, \"o-r\")\n",
    "plt.plot(range(15), arc_B2_positions-nominal_B2_positions-1, \"o-b\")\n",
    "plt.plot(range(15), avg_B2_positions-nominal_B2_positions, \"o-y\")\n",
    "plt.xlabel('Tick')\n",
    "plt.ylabel('BPM - nominal')\n",
    "plt.show()\n"
   ]
  },
  {
   "cell_type": "code",
   "execution_count": 6,
   "metadata": {},
   "outputs": [
    {
     "data": {
      "image/png": "[encoded data removed]",
      "text/plain": [
       "<Figure size 432x288 with 1 Axes>"
      ]
     },
     "metadata": {
      "needs_background": "light"
     },
     "output_type": "display_data"
    },
    {
     "name": "stdout",
     "output_type": "stream",
     "text": [
      "[ 10. 130. 260. 390. 520.]\n"
     ]
    },
    {
     "data": {
      "image/png": "[encoded data removed]",
      "text/plain": [
       "<Figure size 432x288 with 1 Axes>"
      ]
     },
     "metadata": {
      "needs_background": "light"
     },
     "output_type": "display_data"
    },
    {
     "name": "stdout",
     "output_type": "stream",
     "text": [
      "[ 17.8804873  136.50739254 260.         398.91775124 537.8804873 ]\n"
     ]
    }
   ],
   "source": [
    "def avg_stepsize_corr_b1(positions, nominal_positions, b1_strategy = \"m\", outliers=0, plot=False):\n",
    "\n",
    "    nominal_step_size = nominal_positions[3] - nominal_positions[0]\n",
    "\n",
    "    if b1_strategy == \"c\":\n",
    "        pos_c   = positions[1::3]        \n",
    "    elif b1_strategy == \"m\":\n",
    "        pos_c = np.array( [ np.mean(positions[3*i:3*i+3]) for i in range(5)] ) \n",
    "    diffs =  np.diff( pos_c )\n",
    "\n",
    "    if plot:\n",
    "        plt.plot(range(len(diffs)), diffs, \"o-b\")\n",
    "\n",
    "    if outliers == 0:\n",
    "        avg_step_size = np.mean( diffs )\n",
    "    else:\n",
    "        excluded_indices = []\n",
    "\n",
    "        diffs1  = diffs[:]\n",
    "        for i in range(outliers):\n",
    "            avg     = np.mean( diffs1 )\n",
    "            i_extremum = np.argmax(np.abs(diffs1-avg))\n",
    "            if np.abs(diffs1[i_extremum] - avg)<0.01:\n",
    "                break\n",
    "            excluded_indices.append( np.where(np.isclose(diffs, diffs1[i_extremum]))[0][0] )\n",
    "            diffs1 = diffs1[ np.arange(len(diffs1)) != i_extremum ]\n",
    "        avg = np.mean(diffs1)\n",
    "        std = np.std(diffs1)\n",
    "        lim = 3*std\n",
    "        diffs2 = diffs[ np.abs( diffs-avg )<=lim ]\n",
    "        avg_step_size = np.mean(diffs2)\n",
    "\n",
    "        if plot:\n",
    "            plt.plot(excluded_indices, diffs[np.array(excluded_indices)], \"xr\", markersize=12)\n",
    "            plt.plot([-1,5], [avg, avg], \"-\", color=\"red\")\n",
    "            plt.fill_between([-1,5], [avg-lim, avg-lim], [avg+lim, avg+lim], color=\"red\", alpha=0.2)\n",
    "            plt.plot(np.arange(len(diffs))[ np.abs( diffs-avg )>lim ]+0.3, diffs[ np.abs( diffs-avg )>lim ], \"*m\", markersize=12)\n",
    "    \n",
    "    if plot:\n",
    "        plt.plot([-1,5], [avg_step_size, avg_step_size], \"--g\")\n",
    "        plt.show()\n",
    "\n",
    "            \n",
    "    od_estimates = diffs - avg_step_size\n",
    "    new_stepsizes = od_estimates + nominal_step_size\n",
    "    new_positions = np.concatenate(([0], np.cumsum(new_stepsizes)))\n",
    "    # take the middle point as reference\n",
    "    new_positions = new_positions - new_positions[2] + nominal_positions[7]\n",
    "\n",
    "    return new_positions\n",
    "\n",
    "# testing\n",
    "test_positions = np.repeat(np.arange(5),3)*130.0\n",
    "test_positions[0:2]+=10\n",
    "print(avg_stepsize_corr_b1(test_positions, nominal_B1_positions, b1_strategy = \"c\", outliers=1, plot=True))\n",
    "\n",
    "test_positions = np.repeat(np.arange(5),3)*130.0\n",
    "test_positions+= np.random.normal(size=15)*10\n",
    "print(avg_stepsize_corr_b1(test_positions, nominal_B1_positions, b1_strategy = \"m\", outliers=1, plot=True))"
   ]
  },
  {
   "cell_type": "code",
   "execution_count": 7,
   "metadata": {},
   "outputs": [
    {
     "data": {
      "image/png": "[encoded data removed]",
      "text/plain": [
       "<Figure size 432x288 with 1 Axes>"
      ]
     },
     "metadata": {
      "needs_background": "light"
     },
     "output_type": "display_data"
    },
    {
     "name": "stdout",
     "output_type": "stream",
     "text": [
      "[-10.   0.   0.   0.   0.   0.   0.   0.   0.   0.]\n",
      "[120. 130. 130. 130. 130. 130. 130. 130. 130. 130.]\n",
      "[-120.    0.  130.    0.  130.  260.  130.  260.  390.  260.  390.  520.\n",
      "  390.  520.  650.]\n"
     ]
    },
    {
     "data": {
      "image/png": "[encoded data removed]",
      "text/plain": [
       "<Figure size 432x288 with 1 Axes>"
      ]
     },
     "metadata": {
      "needs_background": "light"
     },
     "output_type": "display_data"
    },
    {
     "name": "stdout",
     "output_type": "stream",
     "text": [
      "[ 6.29185531 -1.31875344 -4.00039683 -2.99309567 -0.23977463 10.42662313\n",
      " 21.92112822 11.73526945 -3.81759797  6.07776324]\n",
      "[136.29185531 128.68124656 125.99960317 127.00690433 129.76022537\n",
      " 140.42662313 151.92112822 141.73526945 126.18240203 136.07776324]\n",
      "[-136.29185531    0.          128.68124656    4.00039683  130.\n",
      "  257.00690433  130.23977463  260.          400.42662313  238.07887178\n",
      "  390.          531.73526945  393.81759797  520.          656.07776324]\n"
     ]
    },
    {
     "data": {
      "image/png": "[encoded data removed]",
      "text/plain": [
       "<Figure size 432x288 with 1 Axes>"
      ]
     },
     "metadata": {
      "needs_background": "light"
     },
     "output_type": "display_data"
    },
    {
     "name": "stdout",
     "output_type": "stream",
     "text": [
      "[ 2.21694699 -2.21694699  7.6465721  -7.6465721  -5.55058093  5.55058093\n",
      "  4.81474103 -4.81474103 -3.85558584  3.85558584]\n",
      "[132.21694699 127.78305301 137.6465721  122.3534279  124.44941907\n",
      " 135.55058093 134.81474103 125.18525897 126.14441416 133.85558584]\n",
      "[-132.21694699    0.          127.78305301   -7.6465721   130.\n",
      "  252.3534279   135.55058093  260.          395.55058093  255.18525897\n",
      "  390.          515.18525897  393.85558584  520.          653.85558584]\n"
     ]
    }
   ],
   "source": [
    "def avg_stepsize_corr_sep(positions, nominal_positions, steps_to_average=10, outliers=0, plot=False):\n",
    "\n",
    "    nominal_step_size = nominal_positions[1] - nominal_positions[0]\n",
    "\n",
    "    diffs = np.diff(positions)\n",
    "    diffs = diffs[ (np.arange(len(diffs)) % 3) != 2]\n",
    "\n",
    "    if plot:\n",
    "        plt.plot(range(len(diffs)), diffs, \"o-b\")\n",
    "\n",
    "    if steps_to_average == 10:\n",
    "        if outliers == 0:\n",
    "            avg_step_size = np.mean( diffs )\n",
    "        else:\n",
    "            # remove 4 outliers\n",
    "            excluded_indices = []\n",
    "            diffs1  =diffs[:]\n",
    "            for i in range(outliers):\n",
    "                avg  = np.mean( diffs1 )\n",
    "                i_extremum = np.argmax(np.abs(diffs1-avg))\n",
    "                if np.abs(diffs1[i_extremum] - avg)<0.01:\n",
    "                    break\n",
    "                excluded_indices.append( np.where(np.isclose(diffs, diffs1[i_extremum]))[0][0] )\n",
    "                diffs1 = diffs1[ np.arange(len(diffs1)) != i_extremum ]\n",
    "            avg = np.mean(diffs1)\n",
    "            std = np.std(diffs1)\n",
    "            lim = 3*std\n",
    "            diffs2 = diffs[ np.abs( diffs-avg )<=lim ]\n",
    "            avg_step_size = np.mean(diffs2)\n",
    "\n",
    "\n",
    "            if plot:\n",
    "\n",
    "                plt.plot(excluded_indices, diffs[np.array(excluded_indices)], \"xr\", markersize=12)\n",
    "                plt.plot([-1,11], [avg, avg], \"-\", color=\"red\")\n",
    "                plt.fill_between([-1,11], [avg-lim, avg-lim], [avg+lim, avg+lim], color=\"red\", alpha=0.2)\n",
    "                plt.plot(np.arange(len(diffs))[ np.abs( diffs-avg )>lim ]+0.3, diffs[ np.abs( diffs-avg )>lim ], \"*m\", markersize=12)\n",
    "                \n",
    "        if plot:\n",
    "            plt.plot([-1,11], [avg_step_size, avg_step_size], \"--g\")\n",
    "            plt.show()\n",
    "\n",
    "        od_estimates = diffs - avg_step_size\n",
    "        new_stepsizes = od_estimates + nominal_step_size\n",
    "\n",
    "    elif steps_to_average == 2:\n",
    "\n",
    "        avg_step_sizes = np.repeat([ np.mean(diffs[2*i:2*i+2]) for i in range(5) ], 2)\n",
    "        od_estimates = diffs - avg_step_sizes\n",
    "        new_stepsizes = od_estimates + nominal_step_size\n",
    "\n",
    "        if plot:\n",
    "            for i in range(5):\n",
    "                plt.plot(np.arange(len(avg_step_sizes))[2*i:2*i+2], avg_step_sizes[2*i:2*i+2], \"--g\")\n",
    "            plt.show()\n",
    "\n",
    "    # reference is always the middle point\n",
    "    print(od_estimates)\n",
    "    print(new_stepsizes)\n",
    "    result = np.repeat(nominal_positions[1::3], 3)*1.0\n",
    "    for i in range(len(result)):\n",
    "        if i%3==0:\n",
    "            result[i] -= new_stepsizes[i//3*2]\n",
    "        elif i%3==2:\n",
    "            result[i] += new_stepsizes[(i-2)//3*2+1]\n",
    "    return result\n",
    "\n",
    "test_positions = np.array(nominal_B2_positions)*1.0\n",
    "test_positions[0]+=10\n",
    "print(avg_stepsize_corr_sep(test_positions, nominal_B2_positions, steps_to_average=10, outliers=4, plot=True))\n",
    "\n",
    "test_positions = np.array(nominal_B2_positions)*1.0\n",
    "test_positions+= np.cumsum(np.random.normal(size=15)*10)\n",
    "print(avg_stepsize_corr_sep(test_positions, nominal_B2_positions, steps_to_average=10, outliers=4, plot=True))\n",
    "\n",
    "test_positions = np.array(nominal_B2_positions)*1.0\n",
    "test_positions+= np.cumsum(np.random.normal(size=15)*10)\n",
    "print(avg_stepsize_corr_sep(test_positions, nominal_B2_positions, steps_to_average=2, outliers=0, plot=True))"
   ]
  },
  {
   "cell_type": "code",
   "execution_count": 8,
   "metadata": {},
   "outputs": [],
   "source": [
    "## OD correction of nominal\n",
    "\n",
    "# this part needs to compute the followings:\n",
    "# analysis_B1_positions or analysis_separations\n",
    "# analysis_B2_positions or analysis_separations\n",
    "# analysis_B1_5positions\n",
    "\n",
    "# maybe we don't need to do step size correction for the scanning beam at all! \n",
    "# after all this method should be only sensitive to the LS of B1!\n",
    "# in fact, probably we should always just use avg for the scanning beam, as that is the safest and most accrate probably\n",
    "\n",
    "# the miniscan deltas are from the bpm-s directly \n",
    "\n",
    "if params[\"pos_strategy\"]==\"nominal, middle point\":\n",
    "    analysis_separations   = nominal_B1_positions - nominal_B2_positions\n",
    "    analysis_B1_5positions = nominal_B1_positions[1::3]\n",
    "elif params[\"pos_strategy\"]==\"nominal, avg point\":\n",
    "    analysis_separations   = nominal_B1_positions - nominal_B2_positions\n",
    "    analysis_B1_5positions = np.array([ np.mean(nominal_B1_positions[3*i:3*i+3]) for i in range(5)])\n",
    "elif params[\"pos_strategy\"]==\"doros, middle point\":\n",
    "    analysis_separations   = doros_B1_positions - doros_B2_positions\n",
    "    analysis_B1_5positions = doros_B1_positions[1::3]\n",
    "elif params[\"pos_strategy\"]==\"doros, avg point\":\n",
    "    analysis_separations   = doros_B1_positions - doros_B2_positions\n",
    "    analysis_B1_5positions = np.array([ np.mean(doros_B1_positions[3*i:3*i+3]) for i in range(5)])\n",
    "#######################\n",
    "elif params[\"pos_strategy\"]==\"doros, b1 stepsize, b2 stepsize 10, avg point\":\n",
    "    analysis_separations   = doros_B1_positions - doros_B2_positions\n",
    "    analysis_separations   = avg_stepsize_corr_sep(analysis_separations, steps_to_average=10, outliers=0)\n",
    "    analysis_B1_5positions = avg_stepsize_corr_b1(doros_B1_positions, nominal_B1_positions, b1_strategy = \"m\", outliers=0)\n",
    "elif params[\"pos_strategy\"]==\"doros, b1 stepsize, b2 stepsize 2, avg point\":\n",
    "    analysis_separations   = doros_B1_positions - doros_B2_positions\n",
    "    analysis_separations   = avg_stepsize_corr_sep(analysis_separations, steps_to_average=2, outliers=0)\n",
    "    analysis_B1_5positions = avg_stepsize_corr_b1(doros_B1_positions, nominal_B1_positions, b1_strategy = \"m\", outliers=0)\n",
    "elif params[\"pos_strategy\"]==\"doros, b1 stepsize, b2 stepsize 10 outlier4, avg point\":\n",
    "    analysis_separations   = doros_B1_positions - doros_B2_positions\n",
    "    analysis_separations   = avg_stepsize_corr_sep(analysis_separations, steps_to_average=10, outliers=4)\n",
    "    analysis_B1_5positions = avg_stepsize_corr_b1(doros_B1_positions, nominal_B1_positions, b1_strategy = \"m\", outliers=0)\n",
    "elif params[\"pos_strategy\"]==\"doros, b1 stepsize outlier 1, b2 stepsize 10, avg point\":\n",
    "    analysis_separations   = doros_B1_positions - doros_B2_positions\n",
    "    analysis_separations   = avg_stepsize_corr_sep(analysis_separations, steps_to_average=10, outliers=0)\n",
    "    analysis_B1_5positions = avg_stepsize_corr_b1(doros_B1_positions, nominal_B1_positions, b1_strategy = \"m\", outliers=1)\n",
    "elif params[\"pos_strategy\"]==\"doros, b1 stepsize outlier1, b2 stepsize 10 outlier4, avg point\":\n",
    "    analysis_separations   = doros_B1_positions - doros_B2_positions\n",
    "    analysis_separations   = avg_stepsize_corr_sep(analysis_separations, steps_to_average=10, outliers=4)\n",
    "    analysis_B1_5positions = avg_stepsize_corr_b1(doros_B1_positions, nominal_B1_positions, b1_strategy = \"m\", outliers=1)\n",
    "#######################\n",
    "elif params[\"pos_strategy\"]==\"doros, b1 stepsize, b2 stepsize 10, middle point\":\n",
    "    analysis_separations   = doros_B1_positions - doros_B2_positions\n",
    "    analysis_separations   = avg_stepsize_corr_sep(analysis_separations, steps_to_average=10, outliers=0)\n",
    "    analysis_B1_5positions = avg_stepsize_corr_b1(doros_B1_positions, nominal_B1_positions, b1_strategy = \"c\", outliers=0)\n",
    "elif params[\"pos_strategy\"]==\"doros, b1 stepsize, b2 stepsize 2, middle point\":\n",
    "    analysis_separations   = doros_B1_positions - doros_B2_positions\n",
    "    analysis_separations   = avg_stepsize_corr_sep(analysis_separations, steps_to_average=2, outliers=0)\n",
    "    analysis_B1_5positions = avg_stepsize_corr_b1(doros_B1_positions, nominal_B1_positions, b1_strategy = \"c\", outliers=0)\n",
    "elif params[\"pos_strategy\"]==\"doros, b1 stepsize, b2 stepsize 10 outlier4, middle point\":\n",
    "    analysis_separations   = doros_B1_positions - doros_B2_positions\n",
    "    analysis_separations   = avg_stepsize_corr_sep(analysis_separations, steps_to_average=10, outliers=4)\n",
    "    analysis_B1_5positions = avg_stepsize_corr_b1(doros_B1_positions, nominal_B1_positions, b1_strategy = \"c\", outliers=0)\n",
    "elif params[\"pos_strategy\"]==\"doros, b1 stepsize outlier 1, b2 stepsize 10, middle point\":\n",
    "    analysis_separations   = doros_B1_positions - doros_B2_positions\n",
    "    analysis_separations   = avg_stepsize_corr_sep(analysis_separations, steps_to_average=10, outliers=0)\n",
    "    analysis_B1_5positions = avg_stepsize_corr_b1(doros_B1_positions, nominal_B1_positions, b1_strategy = \"c\", outliers=1)\n",
    "elif params[\"pos_strategy\"]==\"doros, b1 stepsize outlier1, b2 stepsize 10 outlier4, avg point\":\n",
    "    analysis_separations   = doros_B1_positions - doros_B2_positions\n",
    "    analysis_separations   = avg_stepsize_corr_sep(analysis_separations, steps_to_average=10, outliers=4)\n",
    "    analysis_B1_5positions = avg_stepsize_corr_b1(doros_B1_positions, nominal_B1_positions, b1_strategy = \"c\", outliers=1)\n",
    "    \n"
   ]
  },
  {
   "cell_type": "code",
   "execution_count": 9,
   "metadata": {},
   "outputs": [
    {
     "data": {
      "text/plain": [
       "Text(0, 0.5, 'Beam position / bs position')"
      ]
     },
     "execution_count": 9,
     "metadata": {},
     "output_type": "execute_result"
    },
    {
     "data": {
      "image/png": "[encoded data removed]",
      "text/plain": [
       "<Figure size 432x288 with 1 Axes>"
      ]
     },
     "metadata": {
      "needs_background": "light"
     },
     "output_type": "display_data"
    }
   ],
   "source": [
    "## beamspot location \n",
    "true_beamspot_positions = ( \n",
    "        true_B1_positions/params[\"Sigma_B1\"]**2 + \n",
    "        true_B2_positions/params[\"Sigma_B2\"]**2\n",
    "    )/(params[\"Sigma_B1\"]**-2+params[\"Sigma_B2\"]**-2)\n",
    "\n",
    "\n",
    "plt.plot(range(15), nominal_B1_positions, \"or\")\n",
    "plt.plot(range(15), nominal_B2_positions, \"xb\")\n",
    "plt.plot(range(15), true_beamspot_positions, \"xg\")\n",
    "plt.xlabel('Tick')\n",
    "plt.ylabel('Beam position / bs position')"
   ]
  },
  {
   "cell_type": "code",
   "execution_count": 10,
   "metadata": {},
   "outputs": [],
   "source": [
    "## rates\n",
    "true_rates     = np.exp(-0.5 * (true_B1_positions-true_B2_positions)**2 / (params[\"Sigma_B1\"]**2+params[\"Sigma_B2\"]**2) )\n",
    "true_rates_unc = true_rates**0.5 * np.max(true_rates)**0.5 * params[\"rate_runcertainty_at_head_on\"]"
   ]
  },
  {
   "cell_type": "code",
   "execution_count": 11,
   "metadata": {},
   "outputs": [
    {
     "name": "stdout",
     "output_type": "stream",
     "text": [
      "[3.3551750108570704, 129.99999999999446, 260.0000000000134, 390.00000000003223, 519.9999999997934]\n",
      "[0.6661257459674838, 0.6201330041209918, 0.6263012097724185, 0.6302816027413295, 0.6479586115430838]\n"
     ]
    }
   ],
   "source": [
    "## calculate head-on beamspot position\n",
    "\n",
    "def get_headon_position(rates, rate_unc, separations, beamspot_positions ):\n",
    "\n",
    "    def sg(x,a,m,s):\n",
    "        return a*np.exp(-0.5*((x-m)/s)**2)\n",
    "    \n",
    "    a0 = np.max(rates)\n",
    "    m0 = separations[1]\n",
    "    s0 = np.abs(separations[1] - separations[0])\n",
    "    popt_sg, pcov_sg = curve_fit(sg, separations, rates, sigma=rate_unc, \n",
    "                                    p0=[a0, m0, s0 ],\n",
    "                                    p0_lim = [\n",
    "                                        [a0/2, a0*2],\n",
    "                                        [m0-s0, m0+s0],\n",
    "                                        [s0/2, s0*2],\n",
    "                                    ] )\n",
    "\n",
    "    mu               = popt_sg[1]\n",
    "\n",
    "    def lin(x,a,b):\n",
    "        return a*x+b\n",
    "\n",
    "    popt_lin, pcov_lin = curve_fit(lin, separations, beamspot_positions, sigma=[params[\"beamspot_position_uncertainty\"]]*3, p0=[1, 0])\n",
    "    a = popt_lin[0]\n",
    "    b = popt_lin[1]\n",
    "\n",
    "    # compute result uncertainty\n",
    "    if np.allclose(pcov_lin, 0):\n",
    "        std = a*pcov_sg[1,1]**0.5\n",
    "    else:\n",
    "        mu_randomized = mu + pcov_sg[1,1]**0.5*np.random.normal(size=1000)\n",
    "        try:\n",
    "            pcov_lin_sqrt = np.linalg.cholesky(pcov_lin)\n",
    "        except Exception as e:\n",
    "            print(e)\n",
    "            print(pcov_lin)\n",
    "            sys.exit()\n",
    "\n",
    "        ab_randomized = popt_lin[:,np.newaxis] + np.einsum(\"ij,jk\", pcov_lin_sqrt, np.random.normal(size=(2,1000)))\n",
    "        std = np.std( ab_randomized[0,:]*mu_randomized + ab_randomized[1,:] )\n",
    "\n",
    "    if std == 0:\n",
    "        std = 1e-6\n",
    "\n",
    "    return a*mu+b, std\n",
    "\n",
    "\n",
    "computed_head_on_bs_position = []\n",
    "computed_head_on_bs_position_unc = []\n",
    "for i in range(5):\n",
    "\n",
    "    v, u = get_headon_position(\n",
    "        true_rates[3*i:3*i+3],\n",
    "        true_rates_unc[3*i:3*i+3],\n",
    "        # analysis_B1_positions[3*i:3*i+3] - analysis_B2_positions[3*i:3*i+3],\n",
    "        analysis_separations[3*i:3*i+3],\n",
    "        true_beamspot_positions[3*i:3*i+3])\n",
    "    computed_head_on_bs_position.append(v) \n",
    "    computed_head_on_bs_position_unc.append(u)\n",
    "\n",
    "print(computed_head_on_bs_position)\n",
    "print(computed_head_on_bs_position_unc)"
   ]
  },
  {
   "cell_type": "code",
   "execution_count": 12,
   "metadata": {},
   "outputs": [
    {
     "name": "stdout",
     "output_type": "stream",
     "text": [
      "computed LSC 0.994967944505325 +/- 0.0015813784824965326\n"
     ]
    },
    {
     "data": {
      "text/plain": [
       "Text(0, 0.5, 'Beamspot position - X values')"
      ]
     },
     "execution_count": 12,
     "metadata": {},
     "output_type": "execute_result"
    },
    {
     "data": {
      "image/png": "[encoded data removed]",
      "text/plain": [
       "<Figure size 432x288 with 1 Axes>"
      ]
     },
     "metadata": {
      "needs_background": "light"
     },
     "output_type": "display_data"
    }
   ],
   "source": [
    "def lin(x,a,b):\n",
    "        return a*x+b\n",
    "\n",
    "a0 = (computed_head_on_bs_position_unc[-1]-computed_head_on_bs_position_unc[0])/(analysis_B1_5positions[-1]-analysis_B1_5positions[0])\n",
    "b0 = 0\n",
    "popt_lin, pcov_lin = curve_fit(lin, analysis_B1_5positions, computed_head_on_bs_position, sigma=computed_head_on_bs_position_unc, p0=[a0, b0])\n",
    "a = popt_lin[0]\n",
    "b = popt_lin[1]\n",
    "\n",
    "print(\"computed LSC\", a, \"+/-\", pcov_lin[0,0]**0.5)\n",
    "\n",
    "liml = np.min(analysis_B1_5positions) - 0.2 * (np.max(analysis_B1_5positions)-np.min(analysis_B1_5positions))\n",
    "limu = np.max(analysis_B1_5positions) + 0.2 * (np.max(analysis_B1_5positions)-np.min(analysis_B1_5positions))\n",
    "x = np.linspace(liml, limu, 2)\n",
    "plt.plot(x, lin(x,a-1,b), \"b-\")\n",
    "plt.errorbar(analysis_B1_5positions, computed_head_on_bs_position - analysis_B1_5positions, yerr=computed_head_on_bs_position_unc, fmt=\"or\")\n",
    "\n",
    "\n",
    "plt.xlabel('\"'+params[\"pos_strategy\"] + '\" position')\n",
    "plt.ylabel('Beamspot position - X values')"
   ]
  },
  {
   "cell_type": "code",
   "execution_count": null,
   "metadata": {},
   "outputs": [],
   "source": []
  }
 ],
 "metadata": {
  "interpreter": {
   "hash": "31f2aee4e71d21fbe5cf8b01ff0e069b9275f58929596ceb00d14d90e3e16cd6"
  },
  "kernelspec": {
   "display_name": "Python 3.8.10 64-bit",
   "language": "python",
   "name": "python3"
  },
  "language_info": {
   "codemirror_mode": {
    "name": "ipython",
    "version": 3
   },
   "file_extension": ".py",
   "mimetype": "text/x-python",
   "name": "python",
   "nbconvert_exporter": "python",
   "pygments_lexer": "ipython3",
   "version": "3.8.10"
  },
  "orig_nbformat": 4
 },
 "nbformat": 4,
 "nbformat_minor": 2
}
